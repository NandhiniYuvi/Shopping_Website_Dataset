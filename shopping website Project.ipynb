{
 "cells": [
  {
   "cell_type": "code",
   "execution_count": 247,
   "id": "d974fdd7",
   "metadata": {},
   "outputs": [],
   "source": [
    "#importing the necessary packages\n",
    "import pandas as pd\n",
    "import string\n",
    "import plotly.express as px\n",
    "import numpy as np\n",
    "import seaborn as sns\n",
    "import warnings\n",
    "import matplotlib.pyplot as plt\n",
    "import matplotlib.style\n",
    "\n",
    "from statsmodels.stats.outliers_influence import variance_inflation_factor\n",
    "from sklearn.model_selection import train_test_split\n",
    "from sklearn.feature_extraction.text import TfidfVectorizer,CountVectorizer\n",
    "from scipy.stats import zscore\n",
    "import statsmodels.formula.api as smf\n",
    "from statsmodels.compat import lzip\n",
    "import statsmodels.api as sm\n",
    "import re\n",
    "from sklearn import metrics\n",
    "from sklearn.preprocessing import StandardScaler\n",
    "from sklearn.compose import TransformedTargetRegressor\n",
    "from sklearn.metrics import mean_squared_error\n",
    "from sklearn.model_selection import train_test_split,GridSearchCV,RandomizedSearchCV\n",
    "from sklearn.preprocessing import FunctionTransformer\n",
    "from sklearn.linear_model import LinearRegression\n",
    "from sklearn.linear_model import Ridge\n",
    "from sklearn.linear_model import Lasso\n",
    "from sklearn.ensemble import RandomForestRegressor\n",
    "from sklearn.neural_network import MLPRegressor\n",
    "from sklearn.tree import DecisionTreeRegressor\n",
    "from sklearn.svm import SVR\n",
    "from sklearn.pipeline import Pipeline\n",
    "from sklearn.base import TransformerMixin, BaseEstimator\n",
    "from sklearn.preprocessing import StandardScaler\n",
    "from matplotlib import pyplot as plt\n",
    "\n",
    "\n",
    "warnings.filterwarnings(\"ignore\")\n",
    "%matplotlib inline"
   ]
  },
  {
   "cell_type": "code",
   "execution_count": 248,
   "id": "c69723d2",
   "metadata": {},
   "outputs": [],
   "source": [
    "sns.set()\n",
    "sns.set_palette(palette='deep')\n",
    "import folium\n",
    "from folium.plugins import FastMarkerCluster"
   ]
  },
  {
   "cell_type": "code",
   "execution_count": 249,
   "id": "4f4e45fd",
   "metadata": {},
   "outputs": [
    {
     "data": {
      "text/html": [
       "<div>\n",
       "<style scoped>\n",
       "    .dataframe tbody tr th:only-of-type {\n",
       "        vertical-align: middle;\n",
       "    }\n",
       "\n",
       "    .dataframe tbody tr th {\n",
       "        vertical-align: top;\n",
       "    }\n",
       "\n",
       "    .dataframe thead th {\n",
       "        text-align: right;\n",
       "    }\n",
       "</style>\n",
       "<table border=\"1\" class=\"dataframe\">\n",
       "  <thead>\n",
       "    <tr style=\"text-align: right;\">\n",
       "      <th></th>\n",
       "      <th>Administrative</th>\n",
       "      <th>Administrative_Duration</th>\n",
       "      <th>Informational</th>\n",
       "      <th>Informational_Duration</th>\n",
       "      <th>ProductRelated</th>\n",
       "      <th>ProductRelated_Duration</th>\n",
       "      <th>BounceRates</th>\n",
       "      <th>ExitRates</th>\n",
       "      <th>PageValues</th>\n",
       "      <th>SpecialDay</th>\n",
       "      <th>Month</th>\n",
       "      <th>OperatingSystems</th>\n",
       "      <th>Browser</th>\n",
       "      <th>Region</th>\n",
       "      <th>TrafficType</th>\n",
       "      <th>VisitorType</th>\n",
       "      <th>Weekend</th>\n",
       "      <th>Purchase</th>\n",
       "    </tr>\n",
       "  </thead>\n",
       "  <tbody>\n",
       "    <tr>\n",
       "      <th>0</th>\n",
       "      <td>0</td>\n",
       "      <td>0.0</td>\n",
       "      <td>0</td>\n",
       "      <td>0.0</td>\n",
       "      <td>1</td>\n",
       "      <td>0.000000</td>\n",
       "      <td>0.20</td>\n",
       "      <td>0.20</td>\n",
       "      <td>0.0</td>\n",
       "      <td>0.0</td>\n",
       "      <td>Feb</td>\n",
       "      <td>1</td>\n",
       "      <td>1</td>\n",
       "      <td>1</td>\n",
       "      <td>1</td>\n",
       "      <td>Returning_Visitor</td>\n",
       "      <td>False</td>\n",
       "      <td>False</td>\n",
       "    </tr>\n",
       "    <tr>\n",
       "      <th>1</th>\n",
       "      <td>0</td>\n",
       "      <td>0.0</td>\n",
       "      <td>0</td>\n",
       "      <td>0.0</td>\n",
       "      <td>2</td>\n",
       "      <td>64.000000</td>\n",
       "      <td>0.00</td>\n",
       "      <td>0.10</td>\n",
       "      <td>0.0</td>\n",
       "      <td>0.0</td>\n",
       "      <td>Feb</td>\n",
       "      <td>2</td>\n",
       "      <td>2</td>\n",
       "      <td>1</td>\n",
       "      <td>2</td>\n",
       "      <td>Returning_Visitor</td>\n",
       "      <td>False</td>\n",
       "      <td>False</td>\n",
       "    </tr>\n",
       "    <tr>\n",
       "      <th>2</th>\n",
       "      <td>0</td>\n",
       "      <td>0.0</td>\n",
       "      <td>0</td>\n",
       "      <td>0.0</td>\n",
       "      <td>1</td>\n",
       "      <td>0.000000</td>\n",
       "      <td>0.20</td>\n",
       "      <td>0.20</td>\n",
       "      <td>0.0</td>\n",
       "      <td>0.0</td>\n",
       "      <td>Feb</td>\n",
       "      <td>4</td>\n",
       "      <td>1</td>\n",
       "      <td>9</td>\n",
       "      <td>3</td>\n",
       "      <td>Returning_Visitor</td>\n",
       "      <td>False</td>\n",
       "      <td>False</td>\n",
       "    </tr>\n",
       "    <tr>\n",
       "      <th>3</th>\n",
       "      <td>0</td>\n",
       "      <td>0.0</td>\n",
       "      <td>0</td>\n",
       "      <td>0.0</td>\n",
       "      <td>2</td>\n",
       "      <td>2.666667</td>\n",
       "      <td>0.05</td>\n",
       "      <td>0.14</td>\n",
       "      <td>0.0</td>\n",
       "      <td>0.0</td>\n",
       "      <td>Feb</td>\n",
       "      <td>3</td>\n",
       "      <td>2</td>\n",
       "      <td>2</td>\n",
       "      <td>4</td>\n",
       "      <td>Returning_Visitor</td>\n",
       "      <td>False</td>\n",
       "      <td>False</td>\n",
       "    </tr>\n",
       "    <tr>\n",
       "      <th>4</th>\n",
       "      <td>0</td>\n",
       "      <td>0.0</td>\n",
       "      <td>0</td>\n",
       "      <td>0.0</td>\n",
       "      <td>10</td>\n",
       "      <td>627.500000</td>\n",
       "      <td>0.02</td>\n",
       "      <td>0.05</td>\n",
       "      <td>0.0</td>\n",
       "      <td>0.0</td>\n",
       "      <td>Feb</td>\n",
       "      <td>3</td>\n",
       "      <td>3</td>\n",
       "      <td>1</td>\n",
       "      <td>4</td>\n",
       "      <td>Returning_Visitor</td>\n",
       "      <td>True</td>\n",
       "      <td>False</td>\n",
       "    </tr>\n",
       "  </tbody>\n",
       "</table>\n",
       "</div>"
      ],
      "text/plain": [
       "   Administrative  Administrative_Duration  Informational  \\\n",
       "0               0                      0.0              0   \n",
       "1               0                      0.0              0   \n",
       "2               0                      0.0              0   \n",
       "3               0                      0.0              0   \n",
       "4               0                      0.0              0   \n",
       "\n",
       "   Informational_Duration  ProductRelated  ProductRelated_Duration  \\\n",
       "0                     0.0               1                 0.000000   \n",
       "1                     0.0               2                64.000000   \n",
       "2                     0.0               1                 0.000000   \n",
       "3                     0.0               2                 2.666667   \n",
       "4                     0.0              10               627.500000   \n",
       "\n",
       "   BounceRates  ExitRates  PageValues  SpecialDay Month  OperatingSystems  \\\n",
       "0         0.20       0.20         0.0         0.0   Feb                 1   \n",
       "1         0.00       0.10         0.0         0.0   Feb                 2   \n",
       "2         0.20       0.20         0.0         0.0   Feb                 4   \n",
       "3         0.05       0.14         0.0         0.0   Feb                 3   \n",
       "4         0.02       0.05         0.0         0.0   Feb                 3   \n",
       "\n",
       "   Browser  Region  TrafficType        VisitorType  Weekend  Purchase  \n",
       "0        1       1            1  Returning_Visitor    False     False  \n",
       "1        2       1            2  Returning_Visitor    False     False  \n",
       "2        1       9            3  Returning_Visitor    False     False  \n",
       "3        2       2            4  Returning_Visitor    False     False  \n",
       "4        3       1            4  Returning_Visitor     True     False  "
      ]
     },
     "execution_count": 249,
     "metadata": {},
     "output_type": "execute_result"
    }
   ],
   "source": [
    "# import os\n",
    "# os.chdir('C:\\\\GL Class\\\\Solution Preparation\\EDA')\n",
    "df= pd.read_csv('C:/Users/Nandhini/Downloads/Interview Case Study/data.csv')\n",
    "df.head()"
   ]
  },
  {
   "cell_type": "code",
   "execution_count": 250,
   "id": "27ffb39c",
   "metadata": {},
   "outputs": [
    {
     "data": {
      "text/plain": [
       "(12330, 18)"
      ]
     },
     "execution_count": 250,
     "metadata": {},
     "output_type": "execute_result"
    }
   ],
   "source": [
    "df.shape"
   ]
  },
  {
   "cell_type": "code",
   "execution_count": 251,
   "id": "1dcf89e6",
   "metadata": {},
   "outputs": [
    {
     "name": "stdout",
     "output_type": "stream",
     "text": [
      "<class 'pandas.core.frame.DataFrame'>\n",
      "RangeIndex: 12330 entries, 0 to 12329\n",
      "Data columns (total 18 columns):\n",
      " #   Column                   Non-Null Count  Dtype  \n",
      "---  ------                   --------------  -----  \n",
      " 0   Administrative           12330 non-null  int64  \n",
      " 1   Administrative_Duration  12330 non-null  float64\n",
      " 2   Informational            12330 non-null  int64  \n",
      " 3   Informational_Duration   12330 non-null  float64\n",
      " 4   ProductRelated           12330 non-null  int64  \n",
      " 5   ProductRelated_Duration  12330 non-null  float64\n",
      " 6   BounceRates              12330 non-null  float64\n",
      " 7   ExitRates                12330 non-null  float64\n",
      " 8   PageValues               12330 non-null  float64\n",
      " 9   SpecialDay               12330 non-null  float64\n",
      " 10  Month                    12330 non-null  object \n",
      " 11  OperatingSystems         12330 non-null  int64  \n",
      " 12  Browser                  12330 non-null  int64  \n",
      " 13  Region                   12330 non-null  int64  \n",
      " 14  TrafficType              12330 non-null  int64  \n",
      " 15  VisitorType              12330 non-null  object \n",
      " 16  Weekend                  12330 non-null  bool   \n",
      " 17  Purchase                 12330 non-null  bool   \n",
      "dtypes: bool(2), float64(7), int64(7), object(2)\n",
      "memory usage: 1.5+ MB\n"
     ]
    }
   ],
   "source": [
    "df.info()"
   ]
  },
  {
   "cell_type": "code",
   "execution_count": 252,
   "id": "8b2f987c",
   "metadata": {},
   "outputs": [
    {
     "data": {
      "text/html": [
       "<div>\n",
       "<style scoped>\n",
       "    .dataframe tbody tr th:only-of-type {\n",
       "        vertical-align: middle;\n",
       "    }\n",
       "\n",
       "    .dataframe tbody tr th {\n",
       "        vertical-align: top;\n",
       "    }\n",
       "\n",
       "    .dataframe thead th {\n",
       "        text-align: right;\n",
       "    }\n",
       "</style>\n",
       "<table border=\"1\" class=\"dataframe\">\n",
       "  <thead>\n",
       "    <tr style=\"text-align: right;\">\n",
       "      <th></th>\n",
       "      <th>Administrative</th>\n",
       "      <th>Administrative_Duration</th>\n",
       "      <th>Informational</th>\n",
       "      <th>Informational_Duration</th>\n",
       "      <th>ProductRelated</th>\n",
       "      <th>ProductRelated_Duration</th>\n",
       "      <th>BounceRates</th>\n",
       "      <th>ExitRates</th>\n",
       "      <th>PageValues</th>\n",
       "      <th>SpecialDay</th>\n",
       "      <th>OperatingSystems</th>\n",
       "      <th>Browser</th>\n",
       "      <th>Region</th>\n",
       "      <th>TrafficType</th>\n",
       "    </tr>\n",
       "  </thead>\n",
       "  <tbody>\n",
       "    <tr>\n",
       "      <th>count</th>\n",
       "      <td>12330.000000</td>\n",
       "      <td>12330.000000</td>\n",
       "      <td>12330.000000</td>\n",
       "      <td>12330.000000</td>\n",
       "      <td>12330.000000</td>\n",
       "      <td>12330.000000</td>\n",
       "      <td>12330.000000</td>\n",
       "      <td>12330.000000</td>\n",
       "      <td>12330.000000</td>\n",
       "      <td>12330.000000</td>\n",
       "      <td>12330.000000</td>\n",
       "      <td>12330.000000</td>\n",
       "      <td>12330.000000</td>\n",
       "      <td>12330.000000</td>\n",
       "    </tr>\n",
       "    <tr>\n",
       "      <th>mean</th>\n",
       "      <td>2.315166</td>\n",
       "      <td>80.818611</td>\n",
       "      <td>0.503569</td>\n",
       "      <td>34.472398</td>\n",
       "      <td>31.731468</td>\n",
       "      <td>1194.746220</td>\n",
       "      <td>0.022191</td>\n",
       "      <td>0.043073</td>\n",
       "      <td>5.889258</td>\n",
       "      <td>0.061427</td>\n",
       "      <td>2.124006</td>\n",
       "      <td>2.357097</td>\n",
       "      <td>3.147364</td>\n",
       "      <td>4.069586</td>\n",
       "    </tr>\n",
       "    <tr>\n",
       "      <th>std</th>\n",
       "      <td>3.321784</td>\n",
       "      <td>176.779107</td>\n",
       "      <td>1.270156</td>\n",
       "      <td>140.749294</td>\n",
       "      <td>44.475503</td>\n",
       "      <td>1913.669288</td>\n",
       "      <td>0.048488</td>\n",
       "      <td>0.048597</td>\n",
       "      <td>18.568437</td>\n",
       "      <td>0.198917</td>\n",
       "      <td>0.911325</td>\n",
       "      <td>1.717277</td>\n",
       "      <td>2.401591</td>\n",
       "      <td>4.025169</td>\n",
       "    </tr>\n",
       "    <tr>\n",
       "      <th>min</th>\n",
       "      <td>0.000000</td>\n",
       "      <td>0.000000</td>\n",
       "      <td>0.000000</td>\n",
       "      <td>0.000000</td>\n",
       "      <td>0.000000</td>\n",
       "      <td>0.000000</td>\n",
       "      <td>0.000000</td>\n",
       "      <td>0.000000</td>\n",
       "      <td>0.000000</td>\n",
       "      <td>0.000000</td>\n",
       "      <td>1.000000</td>\n",
       "      <td>1.000000</td>\n",
       "      <td>1.000000</td>\n",
       "      <td>1.000000</td>\n",
       "    </tr>\n",
       "    <tr>\n",
       "      <th>25%</th>\n",
       "      <td>0.000000</td>\n",
       "      <td>0.000000</td>\n",
       "      <td>0.000000</td>\n",
       "      <td>0.000000</td>\n",
       "      <td>7.000000</td>\n",
       "      <td>184.137500</td>\n",
       "      <td>0.000000</td>\n",
       "      <td>0.014286</td>\n",
       "      <td>0.000000</td>\n",
       "      <td>0.000000</td>\n",
       "      <td>2.000000</td>\n",
       "      <td>2.000000</td>\n",
       "      <td>1.000000</td>\n",
       "      <td>2.000000</td>\n",
       "    </tr>\n",
       "    <tr>\n",
       "      <th>50%</th>\n",
       "      <td>1.000000</td>\n",
       "      <td>7.500000</td>\n",
       "      <td>0.000000</td>\n",
       "      <td>0.000000</td>\n",
       "      <td>18.000000</td>\n",
       "      <td>598.936905</td>\n",
       "      <td>0.003112</td>\n",
       "      <td>0.025156</td>\n",
       "      <td>0.000000</td>\n",
       "      <td>0.000000</td>\n",
       "      <td>2.000000</td>\n",
       "      <td>2.000000</td>\n",
       "      <td>3.000000</td>\n",
       "      <td>2.000000</td>\n",
       "    </tr>\n",
       "    <tr>\n",
       "      <th>75%</th>\n",
       "      <td>4.000000</td>\n",
       "      <td>93.256250</td>\n",
       "      <td>0.000000</td>\n",
       "      <td>0.000000</td>\n",
       "      <td>38.000000</td>\n",
       "      <td>1464.157214</td>\n",
       "      <td>0.016813</td>\n",
       "      <td>0.050000</td>\n",
       "      <td>0.000000</td>\n",
       "      <td>0.000000</td>\n",
       "      <td>3.000000</td>\n",
       "      <td>2.000000</td>\n",
       "      <td>4.000000</td>\n",
       "      <td>4.000000</td>\n",
       "    </tr>\n",
       "    <tr>\n",
       "      <th>max</th>\n",
       "      <td>27.000000</td>\n",
       "      <td>3398.750000</td>\n",
       "      <td>24.000000</td>\n",
       "      <td>2549.375000</td>\n",
       "      <td>705.000000</td>\n",
       "      <td>63973.522230</td>\n",
       "      <td>0.200000</td>\n",
       "      <td>0.200000</td>\n",
       "      <td>361.763742</td>\n",
       "      <td>1.000000</td>\n",
       "      <td>8.000000</td>\n",
       "      <td>13.000000</td>\n",
       "      <td>9.000000</td>\n",
       "      <td>20.000000</td>\n",
       "    </tr>\n",
       "  </tbody>\n",
       "</table>\n",
       "</div>"
      ],
      "text/plain": [
       "       Administrative  Administrative_Duration  Informational  \\\n",
       "count    12330.000000             12330.000000   12330.000000   \n",
       "mean         2.315166                80.818611       0.503569   \n",
       "std          3.321784               176.779107       1.270156   \n",
       "min          0.000000                 0.000000       0.000000   \n",
       "25%          0.000000                 0.000000       0.000000   \n",
       "50%          1.000000                 7.500000       0.000000   \n",
       "75%          4.000000                93.256250       0.000000   \n",
       "max         27.000000              3398.750000      24.000000   \n",
       "\n",
       "       Informational_Duration  ProductRelated  ProductRelated_Duration  \\\n",
       "count            12330.000000    12330.000000             12330.000000   \n",
       "mean                34.472398       31.731468              1194.746220   \n",
       "std                140.749294       44.475503              1913.669288   \n",
       "min                  0.000000        0.000000                 0.000000   \n",
       "25%                  0.000000        7.000000               184.137500   \n",
       "50%                  0.000000       18.000000               598.936905   \n",
       "75%                  0.000000       38.000000              1464.157214   \n",
       "max               2549.375000      705.000000             63973.522230   \n",
       "\n",
       "        BounceRates     ExitRates    PageValues    SpecialDay  \\\n",
       "count  12330.000000  12330.000000  12330.000000  12330.000000   \n",
       "mean       0.022191      0.043073      5.889258      0.061427   \n",
       "std        0.048488      0.048597     18.568437      0.198917   \n",
       "min        0.000000      0.000000      0.000000      0.000000   \n",
       "25%        0.000000      0.014286      0.000000      0.000000   \n",
       "50%        0.003112      0.025156      0.000000      0.000000   \n",
       "75%        0.016813      0.050000      0.000000      0.000000   \n",
       "max        0.200000      0.200000    361.763742      1.000000   \n",
       "\n",
       "       OperatingSystems       Browser        Region   TrafficType  \n",
       "count      12330.000000  12330.000000  12330.000000  12330.000000  \n",
       "mean           2.124006      2.357097      3.147364      4.069586  \n",
       "std            0.911325      1.717277      2.401591      4.025169  \n",
       "min            1.000000      1.000000      1.000000      1.000000  \n",
       "25%            2.000000      2.000000      1.000000      2.000000  \n",
       "50%            2.000000      2.000000      3.000000      2.000000  \n",
       "75%            3.000000      2.000000      4.000000      4.000000  \n",
       "max            8.000000     13.000000      9.000000     20.000000  "
      ]
     },
     "execution_count": 252,
     "metadata": {},
     "output_type": "execute_result"
    }
   ],
   "source": [
    "df.describe()"
   ]
  },
  {
   "cell_type": "code",
   "execution_count": 253,
   "id": "e3e0f989",
   "metadata": {},
   "outputs": [
    {
     "data": {
      "text/plain": [
       "125"
      ]
     },
     "execution_count": 253,
     "metadata": {},
     "output_type": "execute_result"
    }
   ],
   "source": [
    "df.duplicated().sum()"
   ]
  },
  {
   "cell_type": "code",
   "execution_count": 254,
   "id": "707c998a",
   "metadata": {},
   "outputs": [
    {
     "name": "stdout",
     "output_type": "stream",
     "text": [
      "       Administrative  Administrative_Duration  Informational  \\\n",
      "85                  0                      0.0              0   \n",
      "132                 0                      0.0              0   \n",
      "158                 0                      0.0              0   \n",
      "159                 0                      0.0              0   \n",
      "178                 0                      0.0              0   \n",
      "...               ...                      ...            ...   \n",
      "11934               0                      0.0              0   \n",
      "11938               0                      0.0              0   \n",
      "12159               0                      0.0              0   \n",
      "12180               0                      0.0              0   \n",
      "12185               0                      0.0              0   \n",
      "\n",
      "       Informational_Duration  ProductRelated  ProductRelated_Duration  \\\n",
      "85                        0.0               1                      0.0   \n",
      "132                       0.0               1                      0.0   \n",
      "158                       0.0               1                      0.0   \n",
      "159                       0.0               1                      0.0   \n",
      "178                       0.0               1                      0.0   \n",
      "...                       ...             ...                      ...   \n",
      "11934                     0.0               1                      0.0   \n",
      "11938                     0.0               1                      0.0   \n",
      "12159                     0.0               1                      0.0   \n",
      "12180                     0.0               1                      0.0   \n",
      "12185                     0.0               1                      0.0   \n",
      "\n",
      "       BounceRates  ExitRates  PageValues  SpecialDay Month  OperatingSystems  \\\n",
      "85             0.2        0.2         0.0         0.0   Feb                 1   \n",
      "132            0.2        0.2         0.0         0.0   Feb                 3   \n",
      "158            0.2        0.2         0.0         0.0   Feb                 1   \n",
      "159            0.2        0.2         0.0         0.0   Feb                 3   \n",
      "178            0.2        0.2         0.0         0.0   Feb                 3   \n",
      "...            ...        ...         ...         ...   ...               ...   \n",
      "11934          0.2        0.2         0.0         0.0   Dec                 1   \n",
      "11938          0.2        0.2         0.0         0.0   Dec                 1   \n",
      "12159          0.2        0.2         0.0         0.0   Dec                 1   \n",
      "12180          0.2        0.2         0.0         0.0   Dec                 1   \n",
      "12185          0.2        0.2         0.0         0.0   Dec                 8   \n",
      "\n",
      "       Browser  Region  TrafficType        VisitorType  Weekend  Purchase  \n",
      "85           1       1            3  Returning_Visitor    False     False  \n",
      "132          2       3            3  Returning_Visitor    False     False  \n",
      "158          1       1            3  Returning_Visitor    False     False  \n",
      "159          2       3            3  Returning_Visitor    False     False  \n",
      "178          2       3            3  Returning_Visitor    False     False  \n",
      "...        ...     ...          ...                ...      ...       ...  \n",
      "11934        1       1            2        New_Visitor    False     False  \n",
      "11938        1       4            1  Returning_Visitor     True     False  \n",
      "12159        1       1            3  Returning_Visitor    False     False  \n",
      "12180       13       9           20  Returning_Visitor    False     False  \n",
      "12185       13       9           20              Other    False     False  \n",
      "\n",
      "[201 rows x 18 columns]\n"
     ]
    }
   ],
   "source": [
    "# Assuming your DataFrame is named df\n",
    "duplicates = df[df.duplicated(keep=False)]\n",
    "\n",
    "# View the duplicated rows\n",
    "print(duplicates)"
   ]
  },
  {
   "cell_type": "markdown",
   "id": "348f7922",
   "metadata": {},
   "source": [
    "Based on the output, it seems that there are 201 duplicate rows out of 12330. We can remove duplicates since it is less numbers out of Datasset size."
   ]
  },
  {
   "cell_type": "code",
   "execution_count": 255,
   "id": "5c333817",
   "metadata": {},
   "outputs": [
    {
     "data": {
      "text/plain": [
       "0"
      ]
     },
     "execution_count": 255,
     "metadata": {},
     "output_type": "execute_result"
    }
   ],
   "source": [
    "df = df.drop_duplicates()\n",
    "df.duplicated().sum()"
   ]
  },
  {
   "cell_type": "code",
   "execution_count": 256,
   "id": "d3f80b02",
   "metadata": {},
   "outputs": [
    {
     "data": {
      "text/plain": [
       "Administrative             0\n",
       "Administrative_Duration    0\n",
       "Informational              0\n",
       "Informational_Duration     0\n",
       "ProductRelated             0\n",
       "ProductRelated_Duration    0\n",
       "BounceRates                0\n",
       "ExitRates                  0\n",
       "PageValues                 0\n",
       "SpecialDay                 0\n",
       "Month                      0\n",
       "OperatingSystems           0\n",
       "Browser                    0\n",
       "Region                     0\n",
       "TrafficType                0\n",
       "VisitorType                0\n",
       "Weekend                    0\n",
       "Purchase                   0\n",
       "dtype: int64"
      ]
     },
     "execution_count": 256,
     "metadata": {},
     "output_type": "execute_result"
    }
   ],
   "source": [
    "df.isnull().sum()"
   ]
  },
  {
   "cell_type": "markdown",
   "id": "1bbef71f",
   "metadata": {},
   "source": [
    "There are no missing values in th dataset."
   ]
  },
  {
   "cell_type": "code",
   "execution_count": 257,
   "id": "c3bb095d",
   "metadata": {},
   "outputs": [
    {
     "name": "stdout",
     "output_type": "stream",
     "text": [
      "Administrative               int64\n",
      "Administrative_Duration    float64\n",
      "Informational                int64\n",
      "Informational_Duration     float64\n",
      "ProductRelated               int64\n",
      "ProductRelated_Duration    float64\n",
      "BounceRates                float64\n",
      "ExitRates                  float64\n",
      "PageValues                 float64\n",
      "SpecialDay                 float64\n",
      "Month                       object\n",
      "OperatingSystems             int64\n",
      "Browser                      int64\n",
      "Region                       int64\n",
      "TrafficType                  int64\n",
      "VisitorType                 object\n",
      "Weekend                       bool\n",
      "Purchase                      bool\n",
      "dtype: object\n"
     ]
    }
   ],
   "source": [
    "# Check the data types and formats\n",
    "print(df.dtypes)"
   ]
  },
  {
   "cell_type": "code",
   "execution_count": 258,
   "id": "916adba6",
   "metadata": {},
   "outputs": [
    {
     "data": {
      "image/png": "[encoded data removed]",
      "text/plain": [
       "<Figure size 360x360 with 1 Axes>"
      ]
     },
     "metadata": {},
     "output_type": "display_data"
    }
   ],
   "source": [
    "#Let's check for outliers in our numerical variables\n",
    "numerical = df.select_dtypes(include=['float64', 'int64']).columns\n",
    "plt.figure(figsize=(5,5))\n",
    "df[numerical].boxplot(vert=0)\n",
    "plt.title('Outliers',fontsize=16)\n",
    "plt.show()"
   ]
  },
  {
   "cell_type": "code",
   "execution_count": 259,
   "id": "329bd7b7",
   "metadata": {},
   "outputs": [
    {
     "name": "stdout",
     "output_type": "stream",
     "text": [
      "Administrative - Number of outliers: 404\n",
      "Percentage of outliers: 3.310%\n",
      "Administrative_Duration - Number of outliers: 1149\n",
      "Percentage of outliers: 9.414%\n",
      "Informational - Number of outliers: 2631\n",
      "Percentage of outliers: 21.557%\n",
      "Informational_Duration - Number of outliers: 2405\n",
      "Percentage of outliers: 19.705%\n",
      "ProductRelated - Number of outliers: 1007\n",
      "Percentage of outliers: 8.251%\n",
      "ProductRelated_Duration - Number of outliers: 951\n",
      "Percentage of outliers: 7.792%\n",
      "BounceRates - Number of outliers: 1428\n",
      "Percentage of outliers: 11.700%\n",
      "ExitRates - Number of outliers: 1325\n",
      "Percentage of outliers: 10.856%\n",
      "PageValues - Number of outliers: 2730\n",
      "Percentage of outliers: 22.368%\n",
      "SpecialDay - Number of outliers: 1249\n",
      "Percentage of outliers: 10.234%\n",
      "OperatingSystems - Number of outliers: 107\n",
      "Percentage of outliers: 0.877%\n",
      "Browser - Number of outliers: 4322\n",
      "Percentage of outliers: 35.412%\n",
      "Region - Number of outliers: 505\n",
      "Percentage of outliers: 4.138%\n",
      "TrafficType - Number of outliers: 2084\n",
      "Percentage of outliers: 17.075%\n",
      "       Administrative  Administrative_Duration  Informational  \\\n",
      "5                   0                     0.00              0   \n",
      "22                  0                     0.00              0   \n",
      "26                  4                    64.60              0   \n",
      "31                  0                     0.00              0   \n",
      "32                  0                     0.00              0   \n",
      "...               ...                      ...            ...   \n",
      "12309               3                    54.00              0   \n",
      "12310               1                     5.00              0   \n",
      "12320               0                     0.00              0   \n",
      "12322               6                    76.25              0   \n",
      "12329               0                     0.00              0   \n",
      "\n",
      "       Informational_Duration  ProductRelated  ProductRelated_Duration  \\\n",
      "5                         0.0              19               154.216667   \n",
      "22                        0.0               3               105.000000   \n",
      "26                        0.0              32              1135.444444   \n",
      "31                        0.0               3                78.000000   \n",
      "32                        0.0               8               209.500000   \n",
      "...                       ...             ...                      ...   \n",
      "12309                     0.0              20               262.900000   \n",
      "12310                     0.0              21               411.083333   \n",
      "12320                     0.0               8               143.583333   \n",
      "12322                     0.0              22              1075.250000   \n",
      "12329                     0.0               3                21.250000   \n",
      "\n",
      "       BounceRates  ExitRates  PageValues  SpecialDay Month  OperatingSystems  \\\n",
      "5         0.015789   0.024561         0.0         0.0   Feb                 2   \n",
      "22        0.000000   0.033333         0.0         0.0   Feb                 3   \n",
      "26        0.002857   0.009524         0.0         0.0   Feb                 2   \n",
      "31        0.000000   0.066667         0.0         0.0   Feb                 1   \n",
      "32        0.000000   0.025000         0.0         0.0   Feb                 2   \n",
      "...            ...        ...         ...         ...   ...               ...   \n",
      "12309     0.008333   0.055556         0.0         0.0   Dec                 2   \n",
      "12310     0.015789   0.016140         0.0         0.0   Nov                 3   \n",
      "12320     0.014286   0.050000         0.0         0.0   Nov                 2   \n",
      "12322     0.000000   0.004167         0.0         0.0   Dec                 2   \n",
      "12329     0.000000   0.066667         0.0         0.0   Nov                 3   \n",
      "\n",
      "       Browser  Region  TrafficType        VisitorType  Weekend  Purchase  \n",
      "5            2       1            3  Returning_Visitor    False     False  \n",
      "22           2       1            5  Returning_Visitor    False     False  \n",
      "26           2       1            3  Returning_Visitor    False     False  \n",
      "31           2       6            6  Returning_Visitor     True     False  \n",
      "32           2       1            1  Returning_Visitor    False     False  \n",
      "...        ...     ...          ...                ...      ...       ...  \n",
      "12309        2       1            2  Returning_Visitor    False     False  \n",
      "12310        2       7            3  Returning_Visitor    False     False  \n",
      "12320        2       3            1  Returning_Visitor    False     False  \n",
      "12322        2       4            2  Returning_Visitor    False     False  \n",
      "12329        2       1            2        New_Visitor     True     False  \n",
      "\n",
      "[2459 rows x 18 columns]\n"
     ]
    }
   ],
   "source": [
    "def remove_outliers(df, n):\n",
    "    df_cleaned = df.copy()\n",
    "    \n",
    "       \n",
    "    for col in df.columns:\n",
    "        if df[col].dtype == 'int64' or df[col].dtype == 'float64':\n",
    "            Q1 = df[col].quantile(0.25)\n",
    "            Q3 = df[col].quantile(0.75)\n",
    "            IQR = Q3 - Q1\n",
    "            lower_range = Q1 - (n * IQR)\n",
    "            upper_range = Q3 + (n * IQR)\n",
    "            \n",
    "            outliers = df[(df[col] > upper_range) | (df[col] < lower_range)]\n",
    "            print(f\"{col} - Number of outliers:\", outliers.shape[0])\n",
    "            print(\"Percentage of outliers: {:.3f}%\".format((outliers.shape[0] / df.shape[0]) * 100))\n",
    "            \n",
    "            df_cleaned = df_cleaned.loc[~((df_cleaned[col] > upper_range) | (df_cleaned[col] < lower_range))]\n",
    "    \n",
    "    return df_cleaned\n",
    "df = remove_outliers(df, n=1.5)\n",
    "print(df)"
   ]
  },
  {
   "cell_type": "code",
   "execution_count": 260,
   "id": "6ce34b99",
   "metadata": {},
   "outputs": [
    {
     "data": {
      "image/png": "[encoded data removed]",
      "text/plain": [
       "<Figure size 360x360 with 1 Axes>"
      ]
     },
     "metadata": {},
     "output_type": "display_data"
    }
   ],
   "source": [
    "numerical = df.select_dtypes(include=['float64', 'int64']).columns\n",
    "plt.figure(figsize=(5,5))\n",
    "df[numerical].boxplot(vert=0)\n",
    "plt.title('Outliers',fontsize=16)\n",
    "plt.show()"
   ]
  },
  {
   "cell_type": "code",
   "execution_count": 261,
   "id": "e9e458f6",
   "metadata": {},
   "outputs": [
    {
     "data": {
      "text/html": [
       "<div>\n",
       "<style scoped>\n",
       "    .dataframe tbody tr th:only-of-type {\n",
       "        vertical-align: middle;\n",
       "    }\n",
       "\n",
       "    .dataframe tbody tr th {\n",
       "        vertical-align: top;\n",
       "    }\n",
       "\n",
       "    .dataframe thead th {\n",
       "        text-align: right;\n",
       "    }\n",
       "</style>\n",
       "<table border=\"1\" class=\"dataframe\">\n",
       "  <thead>\n",
       "    <tr style=\"text-align: right;\">\n",
       "      <th></th>\n",
       "      <th>Administrative</th>\n",
       "      <th>Administrative_Duration</th>\n",
       "      <th>Informational</th>\n",
       "      <th>Informational_Duration</th>\n",
       "      <th>ProductRelated</th>\n",
       "      <th>ProductRelated_Duration</th>\n",
       "      <th>BounceRates</th>\n",
       "      <th>ExitRates</th>\n",
       "      <th>PageValues</th>\n",
       "      <th>SpecialDay</th>\n",
       "      <th>Month</th>\n",
       "      <th>OperatingSystems</th>\n",
       "      <th>Browser</th>\n",
       "      <th>Region</th>\n",
       "      <th>TrafficType</th>\n",
       "      <th>VisitorType</th>\n",
       "      <th>Weekend</th>\n",
       "      <th>Purchase</th>\n",
       "    </tr>\n",
       "  </thead>\n",
       "  <tbody>\n",
       "    <tr>\n",
       "      <th>5</th>\n",
       "      <td>0</td>\n",
       "      <td>0.0</td>\n",
       "      <td>0</td>\n",
       "      <td>0.0</td>\n",
       "      <td>19</td>\n",
       "      <td>154.216667</td>\n",
       "      <td>0.015789</td>\n",
       "      <td>0.024561</td>\n",
       "      <td>0.0</td>\n",
       "      <td>0.0</td>\n",
       "      <td>Feb</td>\n",
       "      <td>2</td>\n",
       "      <td>2</td>\n",
       "      <td>1</td>\n",
       "      <td>3</td>\n",
       "      <td>Returning_Visitor</td>\n",
       "      <td>False</td>\n",
       "      <td>False</td>\n",
       "    </tr>\n",
       "    <tr>\n",
       "      <th>22</th>\n",
       "      <td>0</td>\n",
       "      <td>0.0</td>\n",
       "      <td>0</td>\n",
       "      <td>0.0</td>\n",
       "      <td>3</td>\n",
       "      <td>105.000000</td>\n",
       "      <td>0.000000</td>\n",
       "      <td>0.033333</td>\n",
       "      <td>0.0</td>\n",
       "      <td>0.0</td>\n",
       "      <td>Feb</td>\n",
       "      <td>3</td>\n",
       "      <td>2</td>\n",
       "      <td>1</td>\n",
       "      <td>5</td>\n",
       "      <td>Returning_Visitor</td>\n",
       "      <td>False</td>\n",
       "      <td>False</td>\n",
       "    </tr>\n",
       "    <tr>\n",
       "      <th>26</th>\n",
       "      <td>4</td>\n",
       "      <td>64.6</td>\n",
       "      <td>0</td>\n",
       "      <td>0.0</td>\n",
       "      <td>32</td>\n",
       "      <td>1135.444444</td>\n",
       "      <td>0.002857</td>\n",
       "      <td>0.009524</td>\n",
       "      <td>0.0</td>\n",
       "      <td>0.0</td>\n",
       "      <td>Feb</td>\n",
       "      <td>2</td>\n",
       "      <td>2</td>\n",
       "      <td>1</td>\n",
       "      <td>3</td>\n",
       "      <td>Returning_Visitor</td>\n",
       "      <td>False</td>\n",
       "      <td>False</td>\n",
       "    </tr>\n",
       "    <tr>\n",
       "      <th>31</th>\n",
       "      <td>0</td>\n",
       "      <td>0.0</td>\n",
       "      <td>0</td>\n",
       "      <td>0.0</td>\n",
       "      <td>3</td>\n",
       "      <td>78.000000</td>\n",
       "      <td>0.000000</td>\n",
       "      <td>0.066667</td>\n",
       "      <td>0.0</td>\n",
       "      <td>0.0</td>\n",
       "      <td>Feb</td>\n",
       "      <td>1</td>\n",
       "      <td>2</td>\n",
       "      <td>6</td>\n",
       "      <td>6</td>\n",
       "      <td>Returning_Visitor</td>\n",
       "      <td>True</td>\n",
       "      <td>False</td>\n",
       "    </tr>\n",
       "    <tr>\n",
       "      <th>32</th>\n",
       "      <td>0</td>\n",
       "      <td>0.0</td>\n",
       "      <td>0</td>\n",
       "      <td>0.0</td>\n",
       "      <td>8</td>\n",
       "      <td>209.500000</td>\n",
       "      <td>0.000000</td>\n",
       "      <td>0.025000</td>\n",
       "      <td>0.0</td>\n",
       "      <td>0.0</td>\n",
       "      <td>Feb</td>\n",
       "      <td>2</td>\n",
       "      <td>2</td>\n",
       "      <td>1</td>\n",
       "      <td>1</td>\n",
       "      <td>Returning_Visitor</td>\n",
       "      <td>False</td>\n",
       "      <td>False</td>\n",
       "    </tr>\n",
       "  </tbody>\n",
       "</table>\n",
       "</div>"
      ],
      "text/plain": [
       "    Administrative  Administrative_Duration  Informational  \\\n",
       "5                0                      0.0              0   \n",
       "22               0                      0.0              0   \n",
       "26               4                     64.6              0   \n",
       "31               0                      0.0              0   \n",
       "32               0                      0.0              0   \n",
       "\n",
       "    Informational_Duration  ProductRelated  ProductRelated_Duration  \\\n",
       "5                      0.0              19               154.216667   \n",
       "22                     0.0               3               105.000000   \n",
       "26                     0.0              32              1135.444444   \n",
       "31                     0.0               3                78.000000   \n",
       "32                     0.0               8               209.500000   \n",
       "\n",
       "    BounceRates  ExitRates  PageValues  SpecialDay Month  OperatingSystems  \\\n",
       "5      0.015789   0.024561         0.0         0.0   Feb                 2   \n",
       "22     0.000000   0.033333         0.0         0.0   Feb                 3   \n",
       "26     0.002857   0.009524         0.0         0.0   Feb                 2   \n",
       "31     0.000000   0.066667         0.0         0.0   Feb                 1   \n",
       "32     0.000000   0.025000         0.0         0.0   Feb                 2   \n",
       "\n",
       "    Browser  Region  TrafficType        VisitorType  Weekend  Purchase  \n",
       "5         2       1            3  Returning_Visitor    False     False  \n",
       "22        2       1            5  Returning_Visitor    False     False  \n",
       "26        2       1            3  Returning_Visitor    False     False  \n",
       "31        2       6            6  Returning_Visitor     True     False  \n",
       "32        2       1            1  Returning_Visitor    False     False  "
      ]
     },
     "execution_count": 261,
     "metadata": {},
     "output_type": "execute_result"
    }
   ],
   "source": [
    "df.head()"
   ]
  },
  {
   "cell_type": "markdown",
   "id": "d0d66aab",
   "metadata": {},
   "source": [
    "# 2.\tPerform exploratory data analysis to visualise the spread of each of the X variables and the relationship between the various X variables and the Y variable"
   ]
  },
  {
   "cell_type": "code",
   "execution_count": 262,
   "id": "cfa79c14",
   "metadata": {},
   "outputs": [
    {
     "data": {
      "image/png": "[encoded data removed]",
      "text/plain": [
       "<Figure size 576x432 with 1 Axes>"
      ]
     },
     "metadata": {},
     "output_type": "display_data"
    }
   ],
   "source": [
    "import matplotlib.pyplot as plt\n",
    "import seaborn as sns\n",
    "#Count of each transaction type\n",
    "plt.figure(figsize=(8, 6))\n",
    "sns.countplot(x='VisitorType', data=df)\n",
    "plt.title('Count of VisitorType')\n",
    "plt.xlabel('VisitorType')\n",
    "plt.ylabel('Count')\n",
    "plt.show()\n"
   ]
  },
  {
   "cell_type": "code",
   "execution_count": 263,
   "id": "2fbff891",
   "metadata": {},
   "outputs": [
    {
     "data": {
      "image/png": "[encoded data removed]",
      "text/plain": [
       "<Figure size 576x432 with 1 Axes>"
      ]
     },
     "metadata": {},
     "output_type": "display_data"
    }
   ],
   "source": [
    "import matplotlib.pyplot as plt\n",
    "import seaborn as sns\n",
    "#Count of each transaction type\n",
    "plt.figure(figsize=(8, 6))\n",
    "sns.countplot(x='Month', data=df)\n",
    "plt.title('Count of Month')\n",
    "plt.xlabel('Month')\n",
    "plt.ylabel('Count')\n",
    "plt.show()"
   ]
  },
  {
   "cell_type": "code",
   "execution_count": 264,
   "id": "5a38b4c7",
   "metadata": {},
   "outputs": [
    {
     "data": {
      "image/png": "[encoded data removed]",
      "text/plain": [
       "<Figure size 576x432 with 1 Axes>"
      ]
     },
     "metadata": {},
     "output_type": "display_data"
    }
   ],
   "source": [
    "import matplotlib.pyplot as plt\n",
    "import seaborn as sns\n",
    "#Count of each transaction type\n",
    "plt.figure(figsize=(8, 6))\n",
    "sns.countplot(x='Weekend', data=df)\n",
    "plt.title('Count of Weekend')\n",
    "plt.xlabel('Weekend')\n",
    "plt.ylabel('Count')\n",
    "plt.show()"
   ]
  },
  {
   "cell_type": "code",
   "execution_count": 265,
   "id": "a8399b65",
   "metadata": {},
   "outputs": [
    {
     "data": {
      "image/png": "[encoded data removed]",
      "text/plain": [
       "<Figure size 864x576 with 10 Axes>"
      ]
     },
     "metadata": {},
     "output_type": "display_data"
    }
   ],
   "source": [
    "# Plot histograms for numerical features\n",
    "numerical_features = ['Administrative', 'Administrative_Duration', 'Informational', 'Informational_Duration',\n",
    "                      'ProductRelated', 'ProductRelated_Duration', 'BounceRates', 'ExitRates', 'PageValues', 'SpecialDay']\n",
    "\n",
    "plt.figure(figsize=(12, 8))\n",
    "for i, feature in enumerate(numerical_features, 1):\n",
    "    plt.subplot(3, 4, i)\n",
    "    sns.histplot(df[feature], kde=True)\n",
    "    plt.title(f\"{feature} Distribution\")\n",
    "\n",
    "plt.tight_layout()\n",
    "plt.show()"
   ]
  },
  {
   "cell_type": "code",
   "execution_count": 266,
   "id": "7cb35762",
   "metadata": {},
   "outputs": [
    {
     "data": {
      "image/png": "[encoded data removed]",
      "text/plain": [
       "<Figure size 720x576 with 2 Axes>"
      ]
     },
     "metadata": {},
     "output_type": "display_data"
    }
   ],
   "source": [
    "plt.figure(figsize=(10, 8))\n",
    "sns.heatmap(df[numerical_features].corr(), annot=True, cmap='coolwarm', fmt='.2f')\n",
    "plt.title(\"Correlation Heatmap\")\n",
    "plt.show()"
   ]
  },
  {
   "cell_type": "code",
   "execution_count": 267,
   "id": "efef7c4c",
   "metadata": {},
   "outputs": [
    {
     "data": {
      "text/html": [
       "<div>\n",
       "<style scoped>\n",
       "    .dataframe tbody tr th:only-of-type {\n",
       "        vertical-align: middle;\n",
       "    }\n",
       "\n",
       "    .dataframe tbody tr th {\n",
       "        vertical-align: top;\n",
       "    }\n",
       "\n",
       "    .dataframe thead th {\n",
       "        text-align: right;\n",
       "    }\n",
       "</style>\n",
       "<table border=\"1\" class=\"dataframe\">\n",
       "  <thead>\n",
       "    <tr style=\"text-align: right;\">\n",
       "      <th></th>\n",
       "      <th>Administrative</th>\n",
       "      <th>Administrative_Duration</th>\n",
       "      <th>Informational</th>\n",
       "      <th>Informational_Duration</th>\n",
       "      <th>ProductRelated</th>\n",
       "      <th>ProductRelated_Duration</th>\n",
       "      <th>BounceRates</th>\n",
       "      <th>ExitRates</th>\n",
       "      <th>PageValues</th>\n",
       "      <th>SpecialDay</th>\n",
       "      <th>Month</th>\n",
       "      <th>OperatingSystems</th>\n",
       "      <th>Browser</th>\n",
       "      <th>Region</th>\n",
       "      <th>TrafficType</th>\n",
       "      <th>VisitorType</th>\n",
       "      <th>Weekend</th>\n",
       "      <th>Purchase</th>\n",
       "    </tr>\n",
       "  </thead>\n",
       "  <tbody>\n",
       "    <tr>\n",
       "      <th>5</th>\n",
       "      <td>0</td>\n",
       "      <td>0.0</td>\n",
       "      <td>0</td>\n",
       "      <td>0.0</td>\n",
       "      <td>19</td>\n",
       "      <td>154.216667</td>\n",
       "      <td>0.015789</td>\n",
       "      <td>0.024561</td>\n",
       "      <td>0.0</td>\n",
       "      <td>0.0</td>\n",
       "      <td>Feb</td>\n",
       "      <td>2</td>\n",
       "      <td>2</td>\n",
       "      <td>1</td>\n",
       "      <td>3</td>\n",
       "      <td>Returning_Visitor</td>\n",
       "      <td>False</td>\n",
       "      <td>False</td>\n",
       "    </tr>\n",
       "    <tr>\n",
       "      <th>22</th>\n",
       "      <td>0</td>\n",
       "      <td>0.0</td>\n",
       "      <td>0</td>\n",
       "      <td>0.0</td>\n",
       "      <td>3</td>\n",
       "      <td>105.000000</td>\n",
       "      <td>0.000000</td>\n",
       "      <td>0.033333</td>\n",
       "      <td>0.0</td>\n",
       "      <td>0.0</td>\n",
       "      <td>Feb</td>\n",
       "      <td>3</td>\n",
       "      <td>2</td>\n",
       "      <td>1</td>\n",
       "      <td>5</td>\n",
       "      <td>Returning_Visitor</td>\n",
       "      <td>False</td>\n",
       "      <td>False</td>\n",
       "    </tr>\n",
       "    <tr>\n",
       "      <th>26</th>\n",
       "      <td>4</td>\n",
       "      <td>64.6</td>\n",
       "      <td>0</td>\n",
       "      <td>0.0</td>\n",
       "      <td>32</td>\n",
       "      <td>1135.444444</td>\n",
       "      <td>0.002857</td>\n",
       "      <td>0.009524</td>\n",
       "      <td>0.0</td>\n",
       "      <td>0.0</td>\n",
       "      <td>Feb</td>\n",
       "      <td>2</td>\n",
       "      <td>2</td>\n",
       "      <td>1</td>\n",
       "      <td>3</td>\n",
       "      <td>Returning_Visitor</td>\n",
       "      <td>False</td>\n",
       "      <td>False</td>\n",
       "    </tr>\n",
       "    <tr>\n",
       "      <th>31</th>\n",
       "      <td>0</td>\n",
       "      <td>0.0</td>\n",
       "      <td>0</td>\n",
       "      <td>0.0</td>\n",
       "      <td>3</td>\n",
       "      <td>78.000000</td>\n",
       "      <td>0.000000</td>\n",
       "      <td>0.066667</td>\n",
       "      <td>0.0</td>\n",
       "      <td>0.0</td>\n",
       "      <td>Feb</td>\n",
       "      <td>1</td>\n",
       "      <td>2</td>\n",
       "      <td>6</td>\n",
       "      <td>6</td>\n",
       "      <td>Returning_Visitor</td>\n",
       "      <td>True</td>\n",
       "      <td>False</td>\n",
       "    </tr>\n",
       "    <tr>\n",
       "      <th>32</th>\n",
       "      <td>0</td>\n",
       "      <td>0.0</td>\n",
       "      <td>0</td>\n",
       "      <td>0.0</td>\n",
       "      <td>8</td>\n",
       "      <td>209.500000</td>\n",
       "      <td>0.000000</td>\n",
       "      <td>0.025000</td>\n",
       "      <td>0.0</td>\n",
       "      <td>0.0</td>\n",
       "      <td>Feb</td>\n",
       "      <td>2</td>\n",
       "      <td>2</td>\n",
       "      <td>1</td>\n",
       "      <td>1</td>\n",
       "      <td>Returning_Visitor</td>\n",
       "      <td>False</td>\n",
       "      <td>False</td>\n",
       "    </tr>\n",
       "  </tbody>\n",
       "</table>\n",
       "</div>"
      ],
      "text/plain": [
       "    Administrative  Administrative_Duration  Informational  \\\n",
       "5                0                      0.0              0   \n",
       "22               0                      0.0              0   \n",
       "26               4                     64.6              0   \n",
       "31               0                      0.0              0   \n",
       "32               0                      0.0              0   \n",
       "\n",
       "    Informational_Duration  ProductRelated  ProductRelated_Duration  \\\n",
       "5                      0.0              19               154.216667   \n",
       "22                     0.0               3               105.000000   \n",
       "26                     0.0              32              1135.444444   \n",
       "31                     0.0               3                78.000000   \n",
       "32                     0.0               8               209.500000   \n",
       "\n",
       "    BounceRates  ExitRates  PageValues  SpecialDay Month  OperatingSystems  \\\n",
       "5      0.015789   0.024561         0.0         0.0   Feb                 2   \n",
       "22     0.000000   0.033333         0.0         0.0   Feb                 3   \n",
       "26     0.002857   0.009524         0.0         0.0   Feb                 2   \n",
       "31     0.000000   0.066667         0.0         0.0   Feb                 1   \n",
       "32     0.000000   0.025000         0.0         0.0   Feb                 2   \n",
       "\n",
       "    Browser  Region  TrafficType        VisitorType  Weekend  Purchase  \n",
       "5         2       1            3  Returning_Visitor    False     False  \n",
       "22        2       1            5  Returning_Visitor    False     False  \n",
       "26        2       1            3  Returning_Visitor    False     False  \n",
       "31        2       6            6  Returning_Visitor     True     False  \n",
       "32        2       1            1  Returning_Visitor    False     False  "
      ]
     },
     "execution_count": 267,
     "metadata": {},
     "output_type": "execute_result"
    }
   ],
   "source": [
    "#sns.pairplot(df[numerical_features + ['Purchase']], hue='Purchase', diag_kind='hist')\n",
    "#plt.show()\n",
    "df.head()"
   ]
  },
  {
   "cell_type": "markdown",
   "id": "5265f7c4",
   "metadata": {},
   "source": [
    "# 3.\tDivide the given data into train and test sets"
   ]
  },
  {
   "cell_type": "markdown",
   "id": "d989f7c3",
   "metadata": {},
   "source": [
    "\n",
    "Before we divide data, we need to do encoding test"
   ]
  },
  {
   "cell_type": "markdown",
   "id": "7e8b4aeb",
   "metadata": {},
   "source": [
    "One-Hot Encoding for Categorical Columns"
   ]
  },
  {
   "cell_type": "code",
   "execution_count": 268,
   "id": "74d1cba9",
   "metadata": {},
   "outputs": [],
   "source": [
    "for feature in df.columns: \n",
    "    if df[feature].dtype == 'object':\n",
    "        df[feature] = pd.Categorical(df[feature]).codes"
   ]
  },
  {
   "cell_type": "code",
   "execution_count": 269,
   "id": "be58a026",
   "metadata": {},
   "outputs": [
    {
     "data": {
      "text/plain": [
       "Administrative               int64\n",
       "Administrative_Duration    float64\n",
       "Informational                int64\n",
       "Informational_Duration     float64\n",
       "ProductRelated               int64\n",
       "ProductRelated_Duration    float64\n",
       "BounceRates                float64\n",
       "ExitRates                  float64\n",
       "PageValues                 float64\n",
       "SpecialDay                 float64\n",
       "Month                         int8\n",
       "OperatingSystems             int64\n",
       "Browser                      int64\n",
       "Region                       int64\n",
       "TrafficType                  int64\n",
       "VisitorType                   int8\n",
       "Weekend                       bool\n",
       "Purchase                      bool\n",
       "dtype: object"
      ]
     },
     "execution_count": 269,
     "metadata": {},
     "output_type": "execute_result"
    }
   ],
   "source": [
    "df.dtypes"
   ]
  },
  {
   "cell_type": "markdown",
   "id": "c6cc65c0",
   "metadata": {},
   "source": [
    "Boolean Encoding for Boolean Columns"
   ]
  },
  {
   "cell_type": "code",
   "execution_count": 270,
   "id": "2b420c6c",
   "metadata": {},
   "outputs": [],
   "source": [
    "df['Weekend'] = df['Weekend'].astype(int)\n",
    "df['Purchase'] = df['Purchase'].astype(int)\n"
   ]
  },
  {
   "cell_type": "code",
   "execution_count": 271,
   "id": "554e6d65",
   "metadata": {},
   "outputs": [
    {
     "data": {
      "text/html": [
       "<div>\n",
       "<style scoped>\n",
       "    .dataframe tbody tr th:only-of-type {\n",
       "        vertical-align: middle;\n",
       "    }\n",
       "\n",
       "    .dataframe tbody tr th {\n",
       "        vertical-align: top;\n",
       "    }\n",
       "\n",
       "    .dataframe thead th {\n",
       "        text-align: right;\n",
       "    }\n",
       "</style>\n",
       "<table border=\"1\" class=\"dataframe\">\n",
       "  <thead>\n",
       "    <tr style=\"text-align: right;\">\n",
       "      <th></th>\n",
       "      <th>Administrative</th>\n",
       "      <th>Administrative_Duration</th>\n",
       "      <th>Informational</th>\n",
       "      <th>Informational_Duration</th>\n",
       "      <th>ProductRelated</th>\n",
       "      <th>ProductRelated_Duration</th>\n",
       "      <th>BounceRates</th>\n",
       "      <th>ExitRates</th>\n",
       "      <th>PageValues</th>\n",
       "      <th>SpecialDay</th>\n",
       "      <th>Month</th>\n",
       "      <th>OperatingSystems</th>\n",
       "      <th>Browser</th>\n",
       "      <th>Region</th>\n",
       "      <th>TrafficType</th>\n",
       "      <th>VisitorType</th>\n",
       "      <th>Weekend</th>\n",
       "      <th>Purchase</th>\n",
       "    </tr>\n",
       "  </thead>\n",
       "  <tbody>\n",
       "    <tr>\n",
       "      <th>5</th>\n",
       "      <td>0</td>\n",
       "      <td>0.0</td>\n",
       "      <td>0</td>\n",
       "      <td>0.0</td>\n",
       "      <td>19</td>\n",
       "      <td>154.216667</td>\n",
       "      <td>0.015789</td>\n",
       "      <td>0.024561</td>\n",
       "      <td>0.0</td>\n",
       "      <td>0.0</td>\n",
       "      <td>2</td>\n",
       "      <td>2</td>\n",
       "      <td>2</td>\n",
       "      <td>1</td>\n",
       "      <td>3</td>\n",
       "      <td>2</td>\n",
       "      <td>0</td>\n",
       "      <td>0</td>\n",
       "    </tr>\n",
       "    <tr>\n",
       "      <th>22</th>\n",
       "      <td>0</td>\n",
       "      <td>0.0</td>\n",
       "      <td>0</td>\n",
       "      <td>0.0</td>\n",
       "      <td>3</td>\n",
       "      <td>105.000000</td>\n",
       "      <td>0.000000</td>\n",
       "      <td>0.033333</td>\n",
       "      <td>0.0</td>\n",
       "      <td>0.0</td>\n",
       "      <td>2</td>\n",
       "      <td>3</td>\n",
       "      <td>2</td>\n",
       "      <td>1</td>\n",
       "      <td>5</td>\n",
       "      <td>2</td>\n",
       "      <td>0</td>\n",
       "      <td>0</td>\n",
       "    </tr>\n",
       "    <tr>\n",
       "      <th>26</th>\n",
       "      <td>4</td>\n",
       "      <td>64.6</td>\n",
       "      <td>0</td>\n",
       "      <td>0.0</td>\n",
       "      <td>32</td>\n",
       "      <td>1135.444444</td>\n",
       "      <td>0.002857</td>\n",
       "      <td>0.009524</td>\n",
       "      <td>0.0</td>\n",
       "      <td>0.0</td>\n",
       "      <td>2</td>\n",
       "      <td>2</td>\n",
       "      <td>2</td>\n",
       "      <td>1</td>\n",
       "      <td>3</td>\n",
       "      <td>2</td>\n",
       "      <td>0</td>\n",
       "      <td>0</td>\n",
       "    </tr>\n",
       "    <tr>\n",
       "      <th>31</th>\n",
       "      <td>0</td>\n",
       "      <td>0.0</td>\n",
       "      <td>0</td>\n",
       "      <td>0.0</td>\n",
       "      <td>3</td>\n",
       "      <td>78.000000</td>\n",
       "      <td>0.000000</td>\n",
       "      <td>0.066667</td>\n",
       "      <td>0.0</td>\n",
       "      <td>0.0</td>\n",
       "      <td>2</td>\n",
       "      <td>1</td>\n",
       "      <td>2</td>\n",
       "      <td>6</td>\n",
       "      <td>6</td>\n",
       "      <td>2</td>\n",
       "      <td>1</td>\n",
       "      <td>0</td>\n",
       "    </tr>\n",
       "    <tr>\n",
       "      <th>32</th>\n",
       "      <td>0</td>\n",
       "      <td>0.0</td>\n",
       "      <td>0</td>\n",
       "      <td>0.0</td>\n",
       "      <td>8</td>\n",
       "      <td>209.500000</td>\n",
       "      <td>0.000000</td>\n",
       "      <td>0.025000</td>\n",
       "      <td>0.0</td>\n",
       "      <td>0.0</td>\n",
       "      <td>2</td>\n",
       "      <td>2</td>\n",
       "      <td>2</td>\n",
       "      <td>1</td>\n",
       "      <td>1</td>\n",
       "      <td>2</td>\n",
       "      <td>0</td>\n",
       "      <td>0</td>\n",
       "    </tr>\n",
       "  </tbody>\n",
       "</table>\n",
       "</div>"
      ],
      "text/plain": [
       "    Administrative  Administrative_Duration  Informational  \\\n",
       "5                0                      0.0              0   \n",
       "22               0                      0.0              0   \n",
       "26               4                     64.6              0   \n",
       "31               0                      0.0              0   \n",
       "32               0                      0.0              0   \n",
       "\n",
       "    Informational_Duration  ProductRelated  ProductRelated_Duration  \\\n",
       "5                      0.0              19               154.216667   \n",
       "22                     0.0               3               105.000000   \n",
       "26                     0.0              32              1135.444444   \n",
       "31                     0.0               3                78.000000   \n",
       "32                     0.0               8               209.500000   \n",
       "\n",
       "    BounceRates  ExitRates  PageValues  SpecialDay  Month  OperatingSystems  \\\n",
       "5      0.015789   0.024561         0.0         0.0      2                 2   \n",
       "22     0.000000   0.033333         0.0         0.0      2                 3   \n",
       "26     0.002857   0.009524         0.0         0.0      2                 2   \n",
       "31     0.000000   0.066667         0.0         0.0      2                 1   \n",
       "32     0.000000   0.025000         0.0         0.0      2                 2   \n",
       "\n",
       "    Browser  Region  TrafficType  VisitorType  Weekend  Purchase  \n",
       "5         2       1            3            2        0         0  \n",
       "22        2       1            5            2        0         0  \n",
       "26        2       1            3            2        0         0  \n",
       "31        2       6            6            2        1         0  \n",
       "32        2       1            1            2        0         0  "
      ]
     },
     "execution_count": 271,
     "metadata": {},
     "output_type": "execute_result"
    }
   ],
   "source": [
    "df.head()"
   ]
  },
  {
   "cell_type": "code",
   "execution_count": 272,
   "id": "b7f53746",
   "metadata": {},
   "outputs": [
    {
     "data": {
      "text/plain": [
       "(2459, 18)"
      ]
     },
     "execution_count": 272,
     "metadata": {},
     "output_type": "execute_result"
    }
   ],
   "source": [
    "df.dtypes\n",
    "df.shape"
   ]
  },
  {
   "cell_type": "code",
   "execution_count": 273,
   "id": "1ab88808",
   "metadata": {},
   "outputs": [],
   "source": [
    "# Separate features (X) and target variable (y) from the encoded DataFrame\n",
    "X = df_encoded.drop('Purchase', axis=1)\n",
    "y = df_encoded['Purchase']\n"
   ]
  },
  {
   "cell_type": "code",
   "execution_count": 274,
   "id": "67965d8e",
   "metadata": {},
   "outputs": [],
   "source": [
    "# Split the data into train and test sets\n",
    "X_train, X_test, y_train, y_test = train_test_split(X, y, test_size=0.30, random_state=123)"
   ]
  },
  {
   "cell_type": "markdown",
   "id": "9eacba82",
   "metadata": {},
   "source": [
    "# 4.\tPredict how likely it is for a customer to make a purchase by building classification models"
   ]
  },
  {
   "cell_type": "code",
   "execution_count": 275,
   "id": "6e7dfa64",
   "metadata": {},
   "outputs": [
    {
     "name": "stderr",
     "output_type": "stream",
     "text": [
      "[Parallel(n_jobs=2)]: Using backend LokyBackend with 2 concurrent workers.\n",
      "[Parallel(n_jobs=2)]: Done   1 out of   1 | elapsed:    1.2s finished\n"
     ]
    },
    {
     "data": {
      "text/plain": [
       "LogisticRegression(n_jobs=2, penalty='none', solver='newton-cg', verbose=True)"
      ]
     },
     "execution_count": 275,
     "metadata": {},
     "output_type": "execute_result"
    }
   ],
   "source": [
    "from sklearn.linear_model import LogisticRegression\n",
    "\n",
    "model = LogisticRegression(solver='newton-cg', max_iter=100, penalty='none', verbose=True, n_jobs=2)\n",
    "model.fit(X_test, y_test)"
   ]
  },
  {
   "cell_type": "code",
   "execution_count": 276,
   "id": "8d93e57c",
   "metadata": {},
   "outputs": [],
   "source": [
    "# Make predictions on the test data\n",
    "y_pred = model.predict(X_test)"
   ]
  },
  {
   "cell_type": "code",
   "execution_count": 277,
   "id": "d57cf1fd",
   "metadata": {},
   "outputs": [
    {
     "name": "stdout",
     "output_type": "stream",
     "text": [
      "Accuracy: 0.9634146341463414\n",
      "Precision: 1.0\n",
      "Recall: 0.1\n",
      "F1 Score: 0.18181818181818182\n",
      "Confusion Matrix:\n",
      "[[708   0]\n",
      " [ 27   3]]\n"
     ]
    }
   ],
   "source": [
    "from sklearn.metrics import accuracy_score, precision_score, recall_score, f1_score, confusion_matrix\n",
    "# Evaluate the model\n",
    "accuracy = accuracy_score(y_test, y_pred)\n",
    "precision = precision_score(y_test, y_pred)\n",
    "recall = recall_score(y_test, y_pred)\n",
    "f1 = f1_score(y_test, y_pred)\n",
    "conf_matrix = confusion_matrix(y_test, y_pred)\n",
    "\n",
    "print(\"Accuracy:\", accuracy)\n",
    "print(\"Precision:\", precision)\n",
    "print(\"Recall:\", recall)\n",
    "print(\"F1 Score:\", f1)\n",
    "print(\"Confusion Matrix:\")\n",
    "print(conf_matrix)"
   ]
  },
  {
   "cell_type": "markdown",
   "id": "c462e36b",
   "metadata": {},
   "source": [
    "From the results, it seems that the Logistic Regression model achieved a high accuracy of approximately 96.34%, which means it correctly classified 96.34% of the samples in the test set.\n",
    "\n",
    "However, when we look at the precision, recall, and F1 score, we see that there is an issue with the model's performance on the positive class (Purchase = 1). The precision is 1.0, which means that when the model predicts a positive class (Purchase = 1), it is always correct. However, the recall is only 0.1, which indicates that the model is missing many positive samples in the test set. The F1 score, which is the harmonic mean of precision and recall, is also low at approximately 0.1818.\n",
    "\n",
    "To improve the model's performance, we can try Feature Selection/Engineering, Hyperparameter Tuning and also other models"
   ]
  },
  {
   "cell_type": "code",
   "execution_count": 278,
   "id": "83852467",
   "metadata": {},
   "outputs": [
    {
     "name": "stdout",
     "output_type": "stream",
     "text": [
      "0    2374\n",
      "1      85\n",
      "Name: Purchase, dtype: int64\n"
     ]
    }
   ],
   "source": [
    "target_variable = 'Purchase'\n",
    "\n",
    "# Count the occurrences of each class in the target variable\n",
    "class_counts = df[target_variable].value_counts()\n",
    "\n",
    "# Display the class counts\n",
    "print(class_counts)"
   ]
  },
  {
   "cell_type": "markdown",
   "id": "2c2b99bc",
   "metadata": {},
   "source": [
    "It is evident that there is a class imbalance in the 'Purchase' variable. The class 0 (no purchase) has significantly more samples (2374) than the class 1 (purchase) which has only 85 samples. Let's proceed with balancing the data using the Synthetic Minority Over-sampling Technique (SMOTE).\n",
    "\n",
    "SMOTE (Synthetic Minority Over-sampling Technique) is a data augmentation technique used to address the issue of class imbalance in the dataset, especially in binary classification problems. Class imbalance occurs when one class has significantly more samples than the other, leading to biased learning and potentially poor model performance."
   ]
  },
  {
   "cell_type": "code",
   "execution_count": 279,
   "id": "2b8c731f",
   "metadata": {},
   "outputs": [],
   "source": [
    "from imblearn.over_sampling import SMOTE\n",
    "from sklearn.model_selection import train_test_split\n",
    "from sklearn.metrics import accuracy_score, precision_score, recall_score, f1_score, confusion_matrix\n",
    "from sklearn.tree import DecisionTreeClassifier\n",
    "from sklearn.ensemble import RandomForestClassifier, GradientBoostingClassifier\n",
    "from sklearn.svm import SVC\n",
    "from sklearn import tree\n",
    "from sklearn import tree\n",
    "annr = MLPRegressor(hidden_layer_sizes=(500),random_state=123, max_iter=10000)#you are free to tweak the layer sizes\n",
    "rfr = RandomForestRegressor(random_state=123)\n",
    "dtr = tree.DecisionTreeRegressor(random_state=123)\n",
    "regression_model = LinearRegression()\n",
    "\n",
    "models=[regression_model,dtr,rfr,annr]\n",
    "\n",
    "rmse_train=[]\n",
    "rmse_test=[]\n",
    "scores_train=[]\n",
    "scores_test=[]\n",
    "\n",
    "# Apply SMOTE to balance the data\n",
    "smote = SMOTE(random_state=42)\n",
    "X_train_balanced, y_train_balanced = smote.fit_resample(X_train, y_train)\n"
   ]
  },
  {
   "cell_type": "code",
   "execution_count": 280,
   "id": "7d727bf0",
   "metadata": {},
   "outputs": [],
   "source": [
    "# Create and train models on both the imbalanced and balanced datasets\n",
    "models = {\n",
    "    'Decision Tree': DecisionTreeClassifier(random_state=42),\n",
    "    'Random Forest': RandomForestClassifier(random_state=42),\n",
    "    \"Logistic Regression\": LogisticRegression(random_state=42)\n",
    "       \n",
    "}\n",
    "\n",
    "results_imbalanced = {}\n",
    "results_balanced = {}"
   ]
  },
  {
   "cell_type": "code",
   "execution_count": 281,
   "id": "f4b9e5ab",
   "metadata": {},
   "outputs": [],
   "source": [
    "# Function to evaluate model performance\n",
    "def evaluate_model(model, X, y):\n",
    "    y_pred = model.predict(X)\n",
    "    acc = accuracy_score(y, y_pred)\n",
    "    prec = precision_score(y, y_pred)\n",
    "    rec = recall_score(y, y_pred)\n",
    "    f1 = f1_score(y, y_pred)\n",
    "    conf_matrix = confusion_matrix(y, y_pred)\n",
    "    return acc, prec, rec, f1, conf_matrix"
   ]
  },
  {
   "cell_type": "code",
   "execution_count": 282,
   "id": "4992ee6a",
   "metadata": {},
   "outputs": [],
   "source": [
    "for model_name, model in models.items():\n",
    "    # Train on the imbalanced dataset\n",
    "    model.fit(X_train, y_train)\n",
    "    acc_imbalanced, prec_imbalanced, rec_imbalanced, f1_imbalanced, conf_matrix_imbalanced = evaluate_model(model, X_test, y_test)\n",
    "    results_imbalanced[model_name] = {'Accuracy': acc_imbalanced, 'Precision': prec_imbalanced, 'Recall': rec_imbalanced, 'F1 Score': f1_imbalanced, 'Confusion Matrix': conf_matrix_imbalanced}\n",
    "\n",
    "    # Train on the balanced dataset\n",
    "    model.fit(X_train_balanced, y_train_balanced)\n",
    "    acc_balanced, prec_balanced, rec_balanced, f1_balanced, conf_matrix_balanced = evaluate_model(model, X_test, y_test)\n",
    "    results_balanced[model_name] = {'Accuracy': acc_balanced, 'Precision': prec_balanced, 'Recall': rec_balanced, 'F1 Score': f1_balanced, 'Confusion Matrix': conf_matrix_balanced}\n"
   ]
  },
  {
   "cell_type": "code",
   "execution_count": 283,
   "id": "a489765f",
   "metadata": {},
   "outputs": [
    {
     "name": "stdout",
     "output_type": "stream",
     "text": [
      "Results on Imbalanced Dataset:\n",
      "Decision Tree:\n",
      "Accuracy: 0.9214092140921409\n",
      "Precision: 0.1111111111111111\n",
      "Recall: 0.13333333333333333\n",
      "F1 Score: 0.1212121212121212\n",
      "Confusion Matrix:\n",
      "[[676  32]\n",
      " [ 26   4]]\n",
      "---------------------\n",
      "Random Forest:\n",
      "Accuracy: 0.959349593495935\n",
      "Precision: 0.0\n",
      "Recall: 0.0\n",
      "F1 Score: 0.0\n",
      "Confusion Matrix:\n",
      "[[708   0]\n",
      " [ 30   0]]\n",
      "---------------------\n",
      "Logistic Regression:\n",
      "Accuracy: 0.959349593495935\n",
      "Precision: 0.0\n",
      "Recall: 0.0\n",
      "F1 Score: 0.0\n",
      "Confusion Matrix:\n",
      "[[708   0]\n",
      " [ 30   0]]\n",
      "---------------------\n"
     ]
    }
   ],
   "source": [
    "# Display results for both datasets\n",
    "print(\"Results on Imbalanced Dataset:\")\n",
    "for model_name, metrics in results_imbalanced.items():\n",
    "    print(f\"{model_name}:\")\n",
    "    print(f\"Accuracy: {metrics['Accuracy']}\")\n",
    "    print(f\"Precision: {metrics['Precision']}\")\n",
    "    print(f\"Recall: {metrics['Recall']}\")\n",
    "    print(f\"F1 Score: {metrics['F1 Score']}\")\n",
    "    print(f\"Confusion Matrix:\\n{metrics['Confusion Matrix']}\")\n",
    "    print(\"---------------------\")"
   ]
  },
  {
   "cell_type": "code",
   "execution_count": 284,
   "id": "c3efc826",
   "metadata": {},
   "outputs": [
    {
     "name": "stdout",
     "output_type": "stream",
     "text": [
      "\n",
      "Results on Balanced Dataset (After applying SMOTE):\n",
      "Decision Tree:\n",
      "Accuracy: 0.926829268292683\n",
      "Precision: 0.18421052631578946\n",
      "Recall: 0.23333333333333334\n",
      "F1 Score: 0.20588235294117646\n",
      "Confusion Matrix:\n",
      "[[677  31]\n",
      " [ 23   7]]\n",
      "---------------------\n",
      "Random Forest:\n",
      "Accuracy: 0.9512195121951219\n",
      "Precision: 0.0\n",
      "Recall: 0.0\n",
      "F1 Score: 0.0\n",
      "Confusion Matrix:\n",
      "[[702   6]\n",
      " [ 30   0]]\n",
      "---------------------\n",
      "Logistic Regression:\n",
      "Accuracy: 0.8482384823848238\n",
      "Precision: 0.11320754716981132\n",
      "Recall: 0.4\n",
      "F1 Score: 0.17647058823529413\n",
      "Confusion Matrix:\n",
      "[[614  94]\n",
      " [ 18  12]]\n",
      "---------------------\n"
     ]
    }
   ],
   "source": [
    "print(\"\\nResults on Balanced Dataset (After applying SMOTE):\")\n",
    "for model_name, metrics in results_balanced.items():\n",
    "    print(f\"{model_name}:\")\n",
    "    print(f\"Accuracy: {metrics['Accuracy']}\")\n",
    "    print(f\"Precision: {metrics['Precision']}\")\n",
    "    print(f\"Recall: {metrics['Recall']}\")\n",
    "    print(f\"F1 Score: {metrics['F1 Score']}\")\n",
    "    print(f\"Confusion Matrix:\\n{metrics['Confusion Matrix']}\")\n",
    "    print(\"---------------------\")"
   ]
  },
  {
   "cell_type": "markdown",
   "id": "6c15f013",
   "metadata": {},
   "source": [
    "Insights:\n",
    "    \n",
    "    The Decision Tree and Random Forest models showed slight improvements in recall and F1 scores after applying SMOTE, but they still struggle to predict the minority class effectively. The precision values are relatively low, indicating that the models are making a considerable number of false positive predictions\n",
    "    \n",
    "    To improve the model's performance, we need to explore experimentn with hyperparameter tuning, and possibly consider ensemble methods. Additionally, feature engineering and selecting relevant features might also play a crucial role in improving the model's performance"
   ]
  },
  {
   "cell_type": "markdown",
   "id": "569f44f5",
   "metadata": {},
   "source": [
    "# 5.\tTry to apply various techniques like (Feature Engineering, Ensemble Models, Cross Validations & Model Tuning etc..)"
   ]
  },
  {
   "cell_type": "code",
   "execution_count": 285,
   "id": "08d4cda4",
   "metadata": {},
   "outputs": [],
   "source": [
    "#Ensemble Models\n",
    "# Create the Gradient Boosting model\n",
    "# Create the Gradient Boosting model\n",
    "gb_model = GradientBoostingClassifier(\n",
    "    n_estimators=100,     \n",
    "    learning_rate=0.1,     \n",
    "    max_depth=3,         \n",
    "    random_state=42        \n",
    ")\n"
   ]
  },
  {
   "cell_type": "code",
   "execution_count": 286,
   "id": "b265e541",
   "metadata": {},
   "outputs": [
    {
     "data": {
      "text/plain": [
       "GradientBoostingClassifier(random_state=42)"
      ]
     },
     "execution_count": 286,
     "metadata": {},
     "output_type": "execute_result"
    }
   ],
   "source": [
    "# Train the model on the training data\n",
    "gb_model.fit(X_train, y_train)"
   ]
  },
  {
   "cell_type": "code",
   "execution_count": 287,
   "id": "a6480732",
   "metadata": {},
   "outputs": [],
   "source": [
    "# Make predictions on the test data\n",
    "y_pred = gb_model.predict(X_test)"
   ]
  },
  {
   "cell_type": "code",
   "execution_count": 288,
   "id": "20ae0593",
   "metadata": {},
   "outputs": [],
   "source": [
    "# Evaluate the model's performance\n",
    "accuracy = accuracy_score(y_test, y_pred)\n",
    "precision = precision_score(y_test, y_pred)\n",
    "recall = recall_score(y_test, y_pred)\n",
    "f1 = f1_score(y_test, y_pred)\n",
    "conf_matrix = confusion_matrix(y_test, y_pred)"
   ]
  },
  {
   "cell_type": "code",
   "execution_count": 289,
   "id": "847854da",
   "metadata": {},
   "outputs": [
    {
     "name": "stdout",
     "output_type": "stream",
     "text": [
      "Gradient Boosting Model Results:\n",
      "Accuracy: 0.9566395663956639\n",
      "Precision: 0.25\n",
      "Recall: 0.03333333333333333\n",
      "F1 Score: 0.058823529411764705\n",
      "Confusion Matrix:\n",
      "[[705   3]\n",
      " [ 29   1]]\n"
     ]
    }
   ],
   "source": [
    "# Print the results\n",
    "print(\"Gradient Boosting Model Results:\")\n",
    "print(\"Accuracy:\", accuracy)\n",
    "print(\"Precision:\", precision)\n",
    "print(\"Recall:\", recall)\n",
    "print(\"F1 Score:\", f1)\n",
    "print(\"Confusion Matrix:\")\n",
    "print(conf_matrix)"
   ]
  },
  {
   "cell_type": "markdown",
   "id": "a6a3dd8e",
   "metadata": {},
   "source": [
    "# Model Tuning"
   ]
  },
  {
   "cell_type": "code",
   "execution_count": 290,
   "id": "b6ff3a5f",
   "metadata": {},
   "outputs": [],
   "source": [
    "param_grid = {\n",
    "    'max_depth': [7,10],\n",
    "    'max_features': [4, 6],\n",
    "    'min_samples_leaf': [3, 15,30],\n",
    "    'min_samples_split': [30, 50,100],\n",
    "    'n_estimators': [300, 500]\n",
    "}\n",
    "\n",
    "rfr = RandomForestRegressor(random_state=123)\n",
    "\n",
    "grid_search = GridSearchCV(estimator = rfr, param_grid = param_grid, cv = 3)"
   ]
  },
  {
   "cell_type": "code",
   "execution_count": 291,
   "id": "3c8580f8",
   "metadata": {},
   "outputs": [
    {
     "data": {
      "text/plain": [
       "GridSearchCV(cv=3, estimator=RandomForestRegressor(random_state=123),\n",
       "             param_grid={'max_depth': [7, 10], 'max_features': [4, 6],\n",
       "                         'min_samples_leaf': [3, 15, 30],\n",
       "                         'min_samples_split': [30, 50, 100],\n",
       "                         'n_estimators': [300, 500]})"
      ]
     },
     "execution_count": 291,
     "metadata": {},
     "output_type": "execute_result"
    }
   ],
   "source": [
    "grid_search.fit(X_test,y_test)"
   ]
  },
  {
   "cell_type": "code",
   "execution_count": 292,
   "id": "41bb0fb2",
   "metadata": {},
   "outputs": [
    {
     "name": "stdout",
     "output_type": "stream",
     "text": [
      "{'max_depth': 10, 'max_features': 6, 'min_samples_leaf': 3, 'min_samples_split': 30, 'n_estimators': 500}\n"
     ]
    }
   ],
   "source": [
    "print(grid_search.best_params_)"
   ]
  },
  {
   "cell_type": "code",
   "execution_count": 295,
   "id": "18df0dbc",
   "metadata": {},
   "outputs": [
    {
     "name": "stdout",
     "output_type": "stream",
     "text": [
      "                         Test RMSE  Test Score\n",
      "Decision Tree             0.206721   -0.095789\n",
      "Random Forest Regressor   0.190643    0.068036\n",
      "Logistic Regression       0.201619    0.959350\n"
     ]
    }
   ],
   "source": [
    "# Define the models\n",
    "regression_model = DecisionTreeRegressor(max_depth=5, random_state=123)\n",
    "rfr = RandomForestRegressor(max_depth=10, max_features=6, \n",
    "                            min_samples_leaf=3,\n",
    "                            min_samples_split=30, n_estimators=500,\n",
    "                            random_state=123)\n",
    "log_reg = LogisticRegression(max_iter=1000, random_state=123)\n",
    "\n",
    "models = [regression_model, rfr, log_reg]\n",
    "\n",
    "# Data to store the metrics\n",
    "rmse_test = []\n",
    "scores_test = []\n",
    "\n",
    "# Fit and evaluate the models\n",
    "for i in models:\n",
    "    i.fit(X_train, y_train)\n",
    "    scores_test.append(i.score(X_test, y_test))\n",
    "    rmse_test.append(np.sqrt(mean_squared_error(y_test, i.predict(X_test))))\n",
    "\n",
    "# Create a DataFrame to store the results\n",
    "results_df = pd.DataFrame({'Test RMSE': rmse_test, 'Test Score': scores_test},\n",
    "                          index=['Decision Tree', 'Random Forest Regressor', 'Logistic Regression'])\n",
    "\n",
    "print(results_df)"
   ]
  },
  {
   "cell_type": "markdown",
   "id": "ec47d330",
   "metadata": {},
   "source": [
    "Interpretation:\n",
    "\n",
    "The lower the Test RMSE, the better the model's performance in predicting the target variable on the test set. The Random Forest Regressor has the lowest Test RMSE, indicating that it has the best predictive performance among the three models.\n",
    "The Test Score represents the coefficient of determination (R-squared) for regression models. An R-squared value closer to 1 indicates a better fit of the model to the data. The Logistic Regression model has the highest Test Score (R-squared of approximately 0.959), suggesting that it explains around 95.9% of the variance in the target variable on the test set. The positive R-squared indicates that the Logistic Regression model fits the data better than a horizontal line (a constant model).\n",
    "Overall, based on these metrics, the Random Forest Regressor and Logistic Regression models perform better than the Decision Tree on this dataset."
   ]
  },
  {
   "cell_type": "markdown",
   "id": "c9de9220",
   "metadata": {},
   "source": [
    "# Cross Validations "
   ]
  },
  {
   "cell_type": "code",
   "execution_count": 302,
   "id": "97f3d168",
   "metadata": {},
   "outputs": [
    {
     "ename": "SyntaxError",
     "evalue": "EOL while scanning string literal (Temp/ipykernel_5892/1635348109.py, line 2)",
     "output_type": "error",
     "traceback": [
      "\u001b[1;36m  File \u001b[1;32m\"C:\\Users\\Nandhini\\AppData\\Local\\Temp/ipykernel_5892/1635348109.py\"\u001b[1;36m, line \u001b[1;32m2\u001b[0m\n\u001b[1;33m    models = [\"Logistic Regression\", 'Random Forest\", \"gb_model\", \"Decision Tree\"]\u001b[0m\n\u001b[1;37m                                                                                  ^\u001b[0m\n\u001b[1;31mSyntaxError\u001b[0m\u001b[1;31m:\u001b[0m EOL while scanning string literal\n"
     ]
    }
   ],
   "source": [
    "# List of models to evaluate\n",
    "models = [\"Logistic Regression\", 'Random Forest\", \"gb_model\", \"Decision Tree\"]\n"
   ]
  },
  {
   "cell_type": "code",
   "execution_count": 303,
   "id": "55259f31",
   "metadata": {},
   "outputs": [
    {
     "name": "stdout",
     "output_type": "stream",
     "text": [
      "Logistic Regression Cross-Validation Results:\n",
      "Mean Score: 0.96804179305696\n",
      "Standard Deviation of Score: 3.7074486012800274e-05\n",
      "\n",
      "Random Forest Cross-Validation Results:\n",
      "Mean Score: 0.96804179305696\n",
      "Standard Deviation of Score: 3.7074486012800274e-05\n",
      "\n",
      "Gradient Boosting Cross-Validation Results:\n",
      "Mean Score: 0.9639770812268285\n",
      "Standard Deviation of Score: 0.0029276769661154543\n",
      "\n",
      "Decision Tree Cross-Validation Results:\n",
      "Mean Score: 0.962814290529154\n",
      "Standard Deviation of Score: 0.002819595435281407\n",
      "\n"
     ]
    }
   ],
   "source": [
    "# Create the classification models\n",
    "log_reg_model = LogisticRegression(max_iter=1000, random_state=123)\n",
    "rf_classifier = RandomForestClassifier(max_depth=10, max_features=6, \n",
    "                                       min_samples_leaf=3, min_samples_split=30, n_estimators=500,\n",
    "                                       random_state=123)\n",
    "gb_classifier = GradientBoostingClassifier(n_estimators=100, learning_rate=0.1, max_depth=3, random_state=42)\n",
    "dt_classifier = DecisionTreeClassifier(max_depth=5, random_state=123)\n",
    "\n",
    "models = [log_reg_model, rf_classifier, gb_classifier, dt_classifier]\n",
    "\n",
    "model_names = [\"Logistic Regression\", \"Random Forest\", \"Gradient Boosting\", \"Decision Tree\"]\n",
    "\n",
    "for model, model_name in zip(models, model_names):\n",
    "    # Perform 5-fold cross-validation and specify the scoring metric (e.g., 'accuracy' for classification)\n",
    "    scores = cross_val_score(model, X_train, y_train, cv=5, scoring='accuracy')\n",
    "    \n",
    "    # Calculate the mean and standard deviation of the scores\n",
    "    mean_score = scores.mean()\n",
    "    std_score = scores.std()\n",
    "    \n",
    "    # Print the results\n",
    "    print(f\"{model_name} Cross-Validation Results:\")\n",
    "    print(f\"Mean Score: {mean_score}\")\n",
    "    print(f\"Standard Deviation of Score: {std_score}\\n\")"
   ]
  },
  {
   "cell_type": "markdown",
   "id": "7d7342cb",
   "metadata": {},
   "source": [
    "Based on the cross-validation results, both Logistic Regression and Random Forest have the same mean score of 0.96804179305696. The standard deviation of the score is also the same for both models, indicating low variability in performance across different folds."
   ]
  },
  {
   "cell_type": "code",
   "execution_count": 307,
   "id": "19dec3b9",
   "metadata": {},
   "outputs": [],
   "source": [
    "# Define a list of models to evaluate\n",
    "models = [log_reg_model, rf_classifier, gb_classifier, dt_classifier]\n",
    "\n",
    "# Create empty dictionaries to store evaluation metrics\n",
    "accuracy_scores = {}\n",
    "precision_scores = {}\n",
    "recall_scores = {}\n",
    "f1_scores = {}\n",
    "roc_auc_scores = {}"
   ]
  },
  {
   "cell_type": "code",
   "execution_count": 309,
   "id": "17c6fa4f",
   "metadata": {},
   "outputs": [],
   "source": [
    "from sklearn.metrics import accuracy_score, precision_score, recall_score, f1_score, roc_auc_score\n",
    "# Fit and evaluate each model\n",
    "for model in models:\n",
    "    # Fit the model with the training data\n",
    "    model.fit(X_train, y_train)\n",
    "    \n",
    "    # Make predictions on the test set\n",
    "    y_pred = model.predict(X_test)\n",
    "    \n",
    "    # Calculate evaluation metrics\n",
    "    accuracy_scores[model.__class__.__name__] = accuracy_score(y_test, y_pred)\n",
    "    precision_scores[model.__class__.__name__] = precision_score(y_test, y_pred)\n",
    "    recall_scores[model.__class__.__name__] = recall_score(y_test, y_pred)\n",
    "    f1_scores[model.__class__.__name__] = f1_score(y_test, y_pred)\n",
    "    roc_auc_scores[model.__class__.__name__] = roc_auc_score(y_test, model.predict_proba(X_test)[:, 1])\n"
   ]
  },
  {
   "cell_type": "code",
   "execution_count": 310,
   "id": "fc6b6b8b",
   "metadata": {},
   "outputs": [
    {
     "name": "stdout",
     "output_type": "stream",
     "text": [
      "Model Evaluation Metrics:\n",
      "-------------------------\n",
      "Model: LogisticRegression\n",
      "Accuracy: 0.959349593495935\n",
      "Precision: 0.0\n",
      "Recall: 0.0\n",
      "F1 Score: 0.0\n",
      "ROC-AUC: 0.7954331450094162\n",
      "-------------------------\n",
      "Model: RandomForestClassifier\n",
      "Accuracy: 0.959349593495935\n",
      "Precision: 0.0\n",
      "Recall: 0.0\n",
      "F1 Score: 0.0\n",
      "ROC-AUC: 0.8293314500941619\n",
      "-------------------------\n",
      "Model: GradientBoostingClassifier\n",
      "Accuracy: 0.9566395663956639\n",
      "Precision: 0.25\n",
      "Recall: 0.03333333333333333\n",
      "F1 Score: 0.058823529411764705\n",
      "ROC-AUC: 0.7700564971751414\n",
      "-------------------------\n",
      "Model: DecisionTreeClassifier\n",
      "Accuracy: 0.9552845528455285\n",
      "Precision: 0.2\n",
      "Recall: 0.03333333333333333\n",
      "F1 Score: 0.05714285714285715\n",
      "ROC-AUC: 0.6955979284369115\n",
      "-------------------------\n"
     ]
    }
   ],
   "source": [
    "# Print the evaluation metrics\n",
    "print(\"Model Evaluation Metrics:\")\n",
    "print(\"-------------------------\")\n",
    "for model_name in models:\n",
    "    print(f\"Model: {model_name.__class__.__name__}\")\n",
    "    print(f\"Accuracy: {accuracy_scores[model_name.__class__.__name__]}\")\n",
    "    print(f\"Precision: {precision_scores[model_name.__class__.__name__]}\")\n",
    "    print(f\"Recall: {recall_scores[model_name.__class__.__name__]}\")\n",
    "    print(f\"F1 Score: {f1_scores[model_name.__class__.__name__]}\")\n",
    "    print(f\"ROC-AUC: {roc_auc_scores[model_name.__class__.__name__]}\")\n",
    "    print(\"-------------------------\")"
   ]
  },
  {
   "cell_type": "markdown",
   "id": "8094e0a6",
   "metadata": {},
   "source": [
    "Based on the results, the Random Forest Classifier has the highest ROC-AUC score of 0.829, which indicates that it performs better in distinguishing between the two classes. However, it's important to note that the Precision and Recall values for all models are quite low, which suggests that the models are not performing well in correctly classifying the positive class (i.e., customers who make a purchase)."
   ]
  },
  {
   "cell_type": "markdown",
   "id": "0d7c81ba",
   "metadata": {},
   "source": [
    "# 7.\tEnlist your key findings based on the most optimum model and the respective feature importance"
   ]
  },
  {
   "cell_type": "markdown",
   "id": "d53945ec",
   "metadata": {},
   "source": [
    "Based on the evaluation of the most optimum model (Random Forest Classifier) and its feature importance, here are the key findings:\n",
    "\n",
    "Optimum Model: Random Forest Classifier\n",
    "\n",
    "The Random Forest Classifier achieved the highest ROC-AUC score among the evaluated models, indicating better discrimination between the classes.\n",
    "However, the model's overall performance in predicting the positive class (customers who make a purchase) is low, as indicated by the low Precision, Recall, and F1 Score."
   ]
  },
  {
   "cell_type": "code",
   "execution_count": 315,
   "id": "8fddfbb0",
   "metadata": {},
   "outputs": [],
   "source": [
    "# Get feature importances from the trained model\n",
    "importances = rf_classifier.feature_importances_"
   ]
  },
  {
   "cell_type": "markdown",
   "id": "8eb04465",
   "metadata": {},
   "source": [
    "# feature importance"
   ]
  },
  {
   "cell_type": "code",
   "execution_count": 316,
   "id": "66742a31",
   "metadata": {},
   "outputs": [
    {
     "data": {
      "image/png": "[encoded data removed]",
      "text/plain": [
       "<Figure size 720x432 with 1 Axes>"
      ]
     },
     "metadata": {},
     "output_type": "display_data"
    }
   ],
   "source": [
    "# Get the names of the features\n",
    "feature_names = X_train.columns\n",
    "\n",
    "# Sort the features based on importance\n",
    "indices = importances.argsort()[::-1]\n",
    "\n",
    "# Plot the feature importances\n",
    "plt.figure(figsize=(10, 6))\n",
    "plt.bar(range(X_train.shape[1]), importances[indices])\n",
    "plt.xticks(range(X_train.shape[1]), feature_names[indices], rotation=90)\n",
    "plt.xlabel('Features')\n",
    "plt.ylabel('Feature Importance')\n",
    "plt.title('Random Forest Feature Importance')\n",
    "plt.show()"
   ]
  },
  {
   "cell_type": "markdown",
   "id": "121dac55",
   "metadata": {},
   "source": [
    "Based on the feature importance visualization from the Random Forest model, it appears that the \"product_related_duration\" and \"product_related\" features have the highest importance. This means that these two features significantly contribute to the model's predictions and have a strong impact on whether a customer is likely to make a purchase or not.\n",
    "\n",
    "The high importance of \"product_related_duration\" suggests that the duration of time a customer spends on product-related pages or interactions with the product is a crucial factor in predicting their likelihood of making a purchase. Customers who spend more time exploring products or engaging with product-related content may be more interested and inclined to make a purchase."
   ]
  },
  {
   "cell_type": "markdown",
   "id": "e5ba00c3",
   "metadata": {},
   "source": [
    "# Business Insights:"
   ]
  },
  {
   "cell_type": "markdown",
   "id": "6c013608",
   "metadata": {},
   "source": [
    "*Businesses can focus on optimizing and enhancing the product-related user experience on their website or platform\n",
    "\n",
    "*Personalization and Recommendations: Use customer data and browsing history to offer personalized product recommendations, making it easier for customers to discover relevant items of interest.\n",
    "\n",
    "*Track and analyze the customer journey on the website to identify potential or areas of improvement in the product exploration process\n",
    "\n",
    "*By emphasizing the optimization of product-related content and customer engagement, businesses can potentially improve their conversion rates and enhance the overall shopping experience, leading to increased sales and customer satisfaction."
   ]
  },
  {
   "cell_type": "code",
   "execution_count": null,
   "id": "92a9e725",
   "metadata": {},
   "outputs": [],
   "source": []
  }
 ],
 "metadata": {
  "kernelspec": {
   "display_name": "Python 3 (ipykernel)",
   "language": "python",
   "name": "python3"
  },
  "language_info": {
   "codemirror_mode": {
    "name": "ipython",
    "version": 3
   },
   "file_extension": ".py",
   "mimetype": "text/x-python",
   "name": "python",
   "nbconvert_exporter": "python",
   "pygments_lexer": "ipython3",
   "version": "3.9.7"
  }
 },
 "nbformat": 4,
 "nbformat_minor": 5
}
